{
  "nbformat": 4,
  "nbformat_minor": 0,
  "metadata": {
    "colab": {
      "name": "Chatbot.ipynb",
      "provenance": [],
      "collapsed_sections": [],
      "include_colab_link": true
    },
    "kernelspec": {
      "name": "python3",
      "display_name": "Python 3"
    },
    "language_info": {
      "name": "python"
    }
  },
  "cells": [
    {
      "cell_type": "markdown",
      "metadata": {
        "id": "view-in-github",
        "colab_type": "text"
      },
      "source": [
        "<a href=\"https://colab.research.google.com/github/D4v321/MyAnimeBot/blob/main/Chatbot.ipynb\" target=\"_parent\"><img src=\"https://colab.research.google.com/assets/colab-badge.svg\" alt=\"Open In Colab\"/></a>"
      ]
    },
    {
      "cell_type": "markdown",
      "metadata": {
        "id": "ZjGKwVahvfvy"
      },
      "source": [
        "Mounting Procedure\n"
      ]
    },
    {
      "cell_type": "code",
      "metadata": {
        "colab": {
          "base_uri": "https://localhost:8080/"
        },
        "id": "ym12M4WmvDmW",
        "outputId": "39dd13c9-a82a-4f0e-d86e-ceaa6e45d543"
      },
      "source": [
        "from google.colab import drive\n",
        "drive.mount('/content/gdrive', force_remount=True)"
      ],
      "execution_count": null,
      "outputs": [
        {
          "output_type": "stream",
          "name": "stdout",
          "text": [
            "Mounted at /content/gdrive\n"
          ]
        }
      ]
    },
    {
      "cell_type": "markdown",
      "metadata": {
        "id": "qV6fs7zntDsx"
      },
      "source": [
        "Start by installing the chatter bot package\n"
      ]
    },
    {
      "cell_type": "code",
      "metadata": {
        "colab": {
          "base_uri": "https://localhost:8080/"
        },
        "id": "9zF7qlHSs0Xx",
        "outputId": "8383e77b-665f-4a99-a67c-e23599b272dc"
      },
      "source": [
        "pip install chatterbot\n"
      ],
      "execution_count": null,
      "outputs": [
        {
          "output_type": "stream",
          "name": "stdout",
          "text": [
            "Requirement already satisfied: chatterbot in /usr/local/lib/python3.7/dist-packages (1.0.8)\n",
            "Requirement already satisfied: python-dateutil<2.9,>=2.8 in /usr/local/lib/python3.7/dist-packages (from chatterbot) (2.8.2)\n",
            "Requirement already satisfied: pytz in /usr/local/lib/python3.7/dist-packages (from chatterbot) (2018.9)\n",
            "Requirement already satisfied: mathparse<0.2,>=0.1 in /usr/local/lib/python3.7/dist-packages (from chatterbot) (0.1.2)\n",
            "Requirement already satisfied: sqlalchemy<1.4,>=1.3 in /usr/local/lib/python3.7/dist-packages (from chatterbot) (1.3.24)\n",
            "Requirement already satisfied: six>=1.5 in /usr/local/lib/python3.7/dist-packages (from python-dateutil<2.9,>=2.8->chatterbot) (1.15.0)\n"
          ]
        }
      ]
    },
    {
      "cell_type": "markdown",
      "metadata": {
        "id": "7LpjLTr2tJJA"
      },
      "source": [
        "Importing the apporiate functions from the modules and training it with already existing data. The corpus for english contains information on different topics, don't have to make the chatbot learn all of them as we do here, can also train it on just a few or make our own.\n",
        "\n",
        "Specific parts of the corpus can be found in the english folder under the chatterbot_corpurs folder\n"
      ]
    },
    {
      "cell_type": "code",
      "metadata": {
        "colab": {
          "base_uri": "https://localhost:8080/"
        },
        "id": "YntpKHPQuDKg",
        "outputId": "0b833f96-f057-4d22-9782-c68d0d39ab2a"
      },
      "source": [
        "from chatterbot import ChatBot\n",
        "from chatterbot.trainers import ChatterBotCorpusTrainer\n",
        "\n",
        "#Input to chatbot is just the name of the chatbot\n",
        "chatbot = ChatBot('Joe')\n",
        "\n",
        "# Create a  trainer for the chatbot\n",
        "trainer = ChatterBotCorpusTrainer(chatbot)\n",
        "\n",
        "# Train the chatbot based on the english corpus, can also select specific parts of the english corpus\n",
        "#trainer.train(\"/content/gdrive/MyDrive/SoftwareEngineering/ChatBot_Data/chatterbot-corpus-master/chatterbot_corpus/data/english\")\n",
        "\n",
        "#Uncomment the code below to see only the emotion part of the english corpus\n",
        "trainer.train(\"/content/gdrive/MyDrive/SoftwareEngineering/ChatBot_Data/chatterbot-corpus-master/chatterbot_corpus/data/english/emotion.yml\")\n",
        "\n"
      ],
      "execution_count": null,
      "outputs": [
        {
          "output_type": "stream",
          "name": "stdout",
          "text": [
            "Training emotion.yml: [####################] 100%\n"
          ]
        }
      ]
    },
    {
      "cell_type": "markdown",
      "metadata": {
        "id": "zx_FqGsjve_3"
      },
      "source": [
        "Asking the Chatbot questions and getting its response\n"
      ]
    },
    {
      "cell_type": "code",
      "metadata": {
        "colab": {
          "base_uri": "https://localhost:8080/"
        },
        "id": "ve00mH0OwK44",
        "outputId": "8b7ddc80-2982-4570-8dba-bd083ab722ff"
      },
      "source": [
        "while True:\n",
        "  question = input(\"User Question: \")\n",
        "  answer = chatbot.get_response(question)\n",
        "  print(answer)\n",
        "  if question == \"\":\n",
        "    break\n"
      ],
      "execution_count": null,
      "outputs": [
        {
          "name": "stdout",
          "output_type": "stream",
          "text": [
            "User Question: water\n",
            "I wouldn't say \"never.\" \"Sometimes.\"\n",
            "User Question: \n"
          ]
        },
        {
          "output_type": "stream",
          "name": "stderr",
          "text": [
            "No value for search_text was available on the provided input\n"
          ]
        },
        {
          "output_type": "stream",
          "name": "stdout",
          "text": [
            "What is AI?\n"
          ]
        }
      ]
    },
    {
      "cell_type": "markdown",
      "metadata": {
        "id": "vivwkITzyfsI"
      },
      "source": [
        "We will now train our chatbot with our own fake data. To train the chatbot with our data we need to put the data into a list of strings, where each item (sentence) in the list is considered as a possible response to its predessor in the list. The list represents a conversation.\n"
      ]
    },
    {
      "cell_type": "markdown",
      "metadata": {
        "id": "tmTc3ZoyE6OE"
      },
      "source": [
        "**NOTE: Training of chatbot with our own fake data is bugged, the previous training with the english corpus inteferes with this part. So to test it out on your own just copy the code below into a new collab notebook**"
      ]
    },
    {
      "cell_type": "code",
      "metadata": {
        "colab": {
          "base_uri": "https://localhost:8080/"
        },
        "id": "B6LlL_l129t7",
        "outputId": "731f1b4a-4d2a-4e65-8487-d30c4b62d036"
      },
      "source": [
        "#\n",
        "from chatterbot import ChatBot\n",
        "from chatterbot.trainers import ListTrainer\n",
        "\n",
        "new_chatbot = ChatBot('New_Bot')\n",
        "\n",
        "new_trainer = ListTrainer(new_chatbot)\n",
        "\n",
        "new_trainer.train([ \n",
        "               \"How are you?\",\n",
        "    \"I am good.\",\n",
        "    \"That is good to hear.\",\n",
        "    \"Thank you\",\n",
        "    \"You are welcome.\",\n",
        "])\n",
        "\n",
        "new_trainer.train([\n",
        "    \"Hi there!\",\n",
        "    \"Hello\",\n",
        "])\n",
        "\n",
        "new_trainer.train([\n",
        "    \"Greetings!\",\n",
        "    \"Hello\",\n",
        "])\n"
      ],
      "execution_count": null,
      "outputs": [
        {
          "output_type": "stream",
          "name": "stdout",
          "text": [
            "List Trainer: [####################] 100%\n",
            "List Trainer: [####################] 100%\n",
            "List Trainer: [####################] 100%\n"
          ]
        }
      ]
    },
    {
      "cell_type": "code",
      "metadata": {
        "colab": {
          "base_uri": "https://localhost:8080/"
        },
        "id": "78T3zkKg5NCm",
        "outputId": "95ae08ad-10a8-4271-8181-a185abc785f1"
      },
      "source": [
        "while True:\n",
        "  new_question = input(\"User Question: \")\n",
        "  answer = new_chatbot.get_response(new_question)\n",
        "  print(answer)\n",
        "  if new_question == \"\":\n",
        "    break"
      ],
      "execution_count": null,
      "outputs": [
        {
          "name": "stdout",
          "output_type": "stream",
          "text": [
            "User Question: Water\n",
            "i'll go along with that. sounds fine to me.\n",
            "User Question: That is good to hear\n",
            "Yes it is.\n",
            "User Question: \n"
          ]
        },
        {
          "output_type": "stream",
          "name": "stderr",
          "text": [
            "No value for search_text was available on the provided input\n"
          ]
        },
        {
          "output_type": "stream",
          "name": "stdout",
          "text": [
            "What is AI?\n"
          ]
        }
      ]
    }
  ]
}